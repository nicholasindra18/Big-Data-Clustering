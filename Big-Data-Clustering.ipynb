{
 "cells": [
  {
   "cell_type": "code",
   "execution_count": 1,
   "metadata": {},
   "outputs": [],
   "source": [
    "# Import Libraries\n",
    "from pyspark.sql import SparkSession\n",
    "from pyspark.ml.clustering import KMeans\n",
    "from pyspark.ml.feature import StandardScaler, VectorAssembler\n",
    "from pyspark.sql.functions import when\n",
    "from matplotlib import pyplot as plt\n",
    "\n",
    "# Initialize Spark Object\n",
    "spark = SparkSession.builder.getOrCreate()\n",
    "\n",
    "# tab == auto complete"
   ]
  },
  {
   "cell_type": "code",
   "execution_count": 4,
   "metadata": {},
   "outputs": [
    {
     "name": "stdout",
     "output_type": "stream",
     "text": [
      "+-------------+------------------+------------------+--------------------------------------+\n",
      "|close_friends|supportive_friends|supportive_parents|Most_of_the_time_or_always_felt_lonely|\n",
      "+-------------+------------------+------------------+--------------------------------------+\n",
      "|            3|                 1|                 5|                                     1|\n",
      "|            4|                 3|                 5|                                     2|\n",
      "|            4|                 3|                 5|                                     2|\n",
      "|            4|                 4|                 4|                                     2|\n",
      "|            4|                 4|                 5|                                     2|\n",
      "|            4|                 4|                 5|                                     2|\n",
      "|            4|                 4|                 1|                                     2|\n",
      "|            4|                 4|                 4|                                     2|\n",
      "|            1|                 3|                 1|                                     1|\n",
      "|            4|                 4|                 5|                                     2|\n",
      "|            4|                 1|                 5|                                     2|\n",
      "|            4|                 3|                 1|                                     2|\n",
      "|            4|                 3|                 1|                                     1|\n",
      "|            4|                 3|                 3|                                     1|\n",
      "|            4|                 5|                 1|                                     2|\n",
      "|            4|                 2|                 4|                                     2|\n",
      "|            4|                 1|                 1|                                     2|\n",
      "|            4|                 4|                 5|                                     2|\n",
      "|            3|                 2|                 1|                                     2|\n",
      "|            4|                 2|                 5|                                     1|\n",
      "+-------------+------------------+------------------+--------------------------------------+\n",
      "only showing top 20 rows\n",
      "\n"
     ]
    },
    {
     "data": {
      "image/png": "[encoded data removed]",
      "text/plain": [
       "<Figure size 432x288 with 1 Axes>"
      ]
     },
     "metadata": {
      "needs_background": "light"
     },
     "output_type": "display_data"
    }
   ],
   "source": [
    "# Local Dataset\n",
    "dataset = spark.read.option('inferSchema', 'true').csv('Bullying_2018.csv', header=True)\n",
    "\n",
    "# Select Features\n",
    "dataset = dataset.select('close_friends', \n",
    "                         'supportive_friends', \n",
    "                         'supportive_parents',\n",
    "                        'Most_of_the_time_or_always_felt_lonely')\n",
    "\n",
    "\n",
    "# Preprocess\n",
    "dataset = dataset.na.drop()\n",
    "dataset = dataset.filter(dataset['close_friends'] != 'null')\n",
    "dataset = dataset.filter(dataset['supportive_friends'] != 'null')\n",
    "dataset = dataset.filter(dataset['supportive_parents'] != 'null')\n",
    "dataset = dataset.filter(dataset['Most_of_the_time_or_always_felt_lonely'] != 'null')\n",
    "\n",
    "\n",
    "# Transform\n",
    "def transform(df):\n",
    "    df = df.withColumn('close_friends', when(df['close_friends'] == '0', 1)\\\n",
    "                                      .when(df['close_friends'] == '1', 2)\\\n",
    "                                      .when(df['close_friends'] == '2', 3)\\\n",
    "                                      .when(df['close_friends'] == '3 or more', 4))\n",
    "    df = df.withColumn('supportive_friends', when(df['supportive_friends'] == 'Always', 5)\\\n",
    "                                      .when(df['supportive_friends'] == 'Most of the time', 4)\\\n",
    "                                      .when(df['supportive_friends'] == 'Sometimes', 3)\\\n",
    "                                      .when(df['supportive_friends'] == 'Rarely', 2)\\\n",
    "                                      .when(df['supportive_friends'] == 'Never', 1))\n",
    "    df = df.withColumn('supportive_parents', when(df['supportive_parents'] == 'Always', 5)\\\n",
    "                                      .when(df['supportive_parents'] == 'Most of the time', 4)\\\n",
    "                                      .when(df['supportive_parents'] == 'Sometimes', 3)\\\n",
    "                                      .when(df['supportive_parents'] == 'Rarely', 2)\\\n",
    "                                      .when(df['supportive_parents'] == 'Never', 1))\n",
    "    df = df.withColumn('Most_of_the_time_or_always_felt_lonely', when(df['Most_of_the_time_or_always_felt_lonely'] == 'Yes', 1)\\\n",
    "                                      .when(df['Most_of_the_time_or_always_felt_lonely'] == 'No', 2))\n",
    "    return df\n",
    "                       \n",
    "dataset = transform(dataset)\n",
    "\n",
    "dataset.show()\n",
    "                       \n",
    "# Normalization\n",
    "cols = dataset.columns\n",
    "assembler = VectorAssembler(inputCols=cols, outputCol='assembled_features')\n",
    "assembled_features = assembler.transform(dataset)\n",
    "scaler = StandardScaler(inputCol='assembled_features', outputCol='features').fit(assembled_features)\n",
    "normalized_dataset = scaler.transform(assembled_features)\n",
    "\n",
    "# Generate Model\n",
    "kmeans = KMeans().setK(2).setSeed(1)\n",
    "model = kmeans.fit(normalized_dataset)\n",
    "                       \n",
    "# Result\n",
    "prediction = model.transform(normalized_dataset)\n",
    "                       \n",
    "#Visualization\n",
    "prediction_pd = prediction.toPandas()\n",
    "plt.scatter(prediction_pd['supportive_parents'], prediction_pd['close_friends'], c=prediction_pd['prediction'])\n",
    "plt.title('Clustering bullied')\n",
    "plt.xlabel('supportive_parents')\n",
    "plt.ylabel('close_friend')\n",
    "plt.show()"
   ]
  }
 ],
 "metadata": {
  "kernelspec": {
   "display_name": "Python 3",
   "language": "python",
   "name": "python3"
  },
  "language_info": {
   "codemirror_mode": {
    "name": "ipython",
    "version": 3
   },
   "file_extension": ".py",
   "mimetype": "text/x-python",
   "name": "python",
   "nbconvert_exporter": "python",
   "pygments_lexer": "ipython3",
   "version": "3.7.4"
  }
 },
 "nbformat": 4,
 "nbformat_minor": 2
}
